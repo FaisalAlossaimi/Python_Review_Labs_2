{
 "cells": [
  {
   "cell_type": "markdown",
   "id": "2d4a0e4d",
   "metadata": {},
   "source": [
    "## Lab1-Lists\n",
    "Given the following list : [5, 4, 17, 19, 30, 2, 7, 10, 45]\n",
    "- Q1: Write a Python program to sum all the items in the list.\n",
    "- Q2: Write a Python program to get the largest number from the list.\n",
    "- Q3: Use list comprehension, create a new list from the above list containing only even numbers.\n",
    "- Q4: Use list slicing to get a new list from the previous list starting from the start to the 5th element in the list."
   ]
  },
  {
   "cell_type": "code",
   "execution_count": 1,
   "id": "88e0fe9c",
   "metadata": {},
   "outputs": [
    {
     "name": "stdout",
     "output_type": "stream",
     "text": [
      "Sum of all items in the list: 139\n",
      "Largest number in the list: 45\n",
      "New list containing even numbers: [4, 30, 2, 10]\n",
      "New list from start to the 5th element: [5, 4, 17, 19, 30]\n"
     ]
    }
   ],
   "source": [
    "#Q1 \n",
    "given_list = [5, 4, 17, 19, 30, 2, 7, 10, 45]\n",
    "total_sum = sum(given_list)\n",
    "\n",
    "print(\"Sum of all items in the list:\", total_sum)\n",
    "\n",
    "#Q2\n",
    "given_list = [5, 4, 17, 19, 30, 2, 7, 10, 45]\n",
    "largest_number = max(given_list)\n",
    "\n",
    "print(\"Largest number in the list:\", largest_number)\n",
    "\n",
    "#Q3\n",
    "given_list = [5, 4, 17, 19, 30, 2, 7, 10, 45]\n",
    "even_numbers = [num for num in given_list if num % 2 == 0]\n",
    "\n",
    "print(\"New list containing even numbers:\", even_numbers)\n",
    "\n",
    "#Q4\n",
    "given_list = [5, 4, 17, 19, 30, 2, 7, 10, 45]\n",
    "new_list = given_list[:5]\n",
    "\n",
    "print(\"New list from start to the 5th element:\", new_list)"
   ]
  },
  {
   "cell_type": "markdown",
   "id": "4df61e4c",
   "metadata": {},
   "source": [
    "## Lab2-Dictionary\n",
    "\n",
    "Build a phone book program that receives the phone number, and returns the name of the owner. \n",
    "You can follow the table below:\n",
    "\n",
    "| Name    | Number      |\n",
    "| -------- | ---------- |\n",
    "| Amal     | 1111111111 |\n",
    "| Mohammed | 2222222222 |\n",
    "| Khadijah | 3333333333 |\n",
    "| Abdullah  | 4444444444 |\n",
    "| Rawan    | 5555555555 |\n",
    "| Faisal   | 6666666666 |\n",
    "| Layla    | 7777777777 |\n",
    "\n",
    "\n",
    "- If the number exists, print the owner. Otherwise, print \"Sorry, the number is not found\".\n",
    "- If the number is less or more than 10 numbers, print \"This is invalid number\".\n",
    "- If the number contains letters or symbols, print \"This is invalid number\"."
   ]
  },
  {
   "cell_type": "code",
   "execution_count": 1,
   "id": "7d53c06c",
   "metadata": {},
   "outputs": [
    {
     "name": "stdout",
     "output_type": "stream",
     "text": [
      "The owner of the number 2222222222 is: Mohammed\n"
     ]
    }
   ],
   "source": [
    "phone_book = {\n",
    "    \"1111111111\": \"Amal\",\n",
    "    \"2222222222\": \"Mohammed\",\n",
    "    \"3333333333\": \"Khadijah\",\n",
    "    \"4444444444\": \"Abdullah\",\n",
    "    \"5555555555\": \"Rawan\",\n",
    "    \"6666666666\": \"Faisal\",\n",
    "    \"7777777777\": \"Layla\"\n",
    "}\n",
    "\n",
    "def lookup_owner(phone_number):\n",
    "    if len(phone_number) != 10 or not phone_number.isdigit():\n",
    "        print(\"This is an invalid number\")\n",
    "        return\n",
    "    owner = phone_book.get(phone_number, None)\n",
    "    if owner:\n",
    "        print(\"The owner of the number {} is: {}\".format(phone_number, owner))\n",
    "    else:\n",
    "        print(\"Sorry, the number is not found\")\n",
    "\n",
    "def main():\n",
    "    phone_number = input(\"Enter a 10-digit phone number: \")\n",
    "    lookup_owner(phone_number)\n",
    "\n",
    "if __name__ == \"__main__\":\n",
    "    main()\n"
   ]
  },
  {
   "cell_type": "code",
   "execution_count": null,
   "id": "ffdffaec",
   "metadata": {},
   "outputs": [],
   "source": []
  },
  {
   "cell_type": "code",
   "execution_count": null,
   "id": "93b05ba5",
   "metadata": {},
   "outputs": [],
   "source": []
  }
 ],
 "metadata": {
  "kernelspec": {
   "display_name": "Python 3 (ipykernel)",
   "language": "python",
   "name": "python3"
  },
  "language_info": {
   "codemirror_mode": {
    "name": "ipython",
    "version": 3
   },
   "file_extension": ".py",
   "mimetype": "text/x-python",
   "name": "python",
   "nbconvert_exporter": "python",
   "pygments_lexer": "ipython3",
   "version": "3.11.9"
  }
 },
 "nbformat": 4,
 "nbformat_minor": 5
}
